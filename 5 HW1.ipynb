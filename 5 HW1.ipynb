{
 "cells": [
  {
   "cell_type": "markdown",
   "metadata": {},
   "source": [
    "Use \"5_realtor_data.csv\" to answer the following questions  \n",
    "The data file should be saved in the project folder  \n",
    "Review the code we have learned in class when completing these questions"
   ]
  },
  {
   "cell_type": "code",
   "execution_count": 12,
   "metadata": {},
   "outputs": [],
   "source": [
    "import numpy as np\n",
    "import pandas as pd\n",
    "import matplotlib.pyplot as plt"
   ]
  },
  {
   "cell_type": "code",
   "execution_count": 14,
   "metadata": {},
   "outputs": [
    {
     "data": {
      "text/html": [
       "<div>\n",
       "<style scoped>\n",
       "    .dataframe tbody tr th:only-of-type {\n",
       "        vertical-align: middle;\n",
       "    }\n",
       "\n",
       "    .dataframe tbody tr th {\n",
       "        vertical-align: top;\n",
       "    }\n",
       "\n",
       "    .dataframe thead th {\n",
       "        text-align: right;\n",
       "    }\n",
       "</style>\n",
       "<table border=\"1\" class=\"dataframe\">\n",
       "  <thead>\n",
       "    <tr style=\"text-align: right;\">\n",
       "      <th></th>\n",
       "      <th>Home Type</th>\n",
       "      <th>Zip</th>\n",
       "      <th>Listing Price</th>\n",
       "      <th>Baths</th>\n",
       "      <th>Beds</th>\n",
       "      <th>SQFT</th>\n",
       "      <th>Year Built</th>\n",
       "      <th>Airbnb Cash on Cash</th>\n",
       "    </tr>\n",
       "  </thead>\n",
       "  <tbody>\n",
       "    <tr>\n",
       "      <th>0</th>\n",
       "      <td>Single Family Residential</td>\n",
       "      <td>61822</td>\n",
       "      <td>685000</td>\n",
       "      <td>5.0</td>\n",
       "      <td>3</td>\n",
       "      <td>2840.0</td>\n",
       "      <td>2010.0</td>\n",
       "      <td>0.834059</td>\n",
       "    </tr>\n",
       "    <tr>\n",
       "      <th>1</th>\n",
       "      <td>Single Family Residential</td>\n",
       "      <td>61822</td>\n",
       "      <td>349900</td>\n",
       "      <td>3.0</td>\n",
       "      <td>4</td>\n",
       "      <td>1926.0</td>\n",
       "      <td>2016.0</td>\n",
       "      <td>1.349840</td>\n",
       "    </tr>\n",
       "    <tr>\n",
       "      <th>2</th>\n",
       "      <td>Townhouse</td>\n",
       "      <td>61822</td>\n",
       "      <td>194900</td>\n",
       "      <td>3.0</td>\n",
       "      <td>3</td>\n",
       "      <td>1600.0</td>\n",
       "      <td>2017.0</td>\n",
       "      <td>8.629820</td>\n",
       "    </tr>\n",
       "    <tr>\n",
       "      <th>3</th>\n",
       "      <td>Single Family Residential</td>\n",
       "      <td>61820</td>\n",
       "      <td>126900</td>\n",
       "      <td>2.0</td>\n",
       "      <td>3</td>\n",
       "      <td>1330.0</td>\n",
       "      <td>1959.0</td>\n",
       "      <td>14.517200</td>\n",
       "    </tr>\n",
       "    <tr>\n",
       "      <th>4</th>\n",
       "      <td>Single Family Residential</td>\n",
       "      <td>61822</td>\n",
       "      <td>369900</td>\n",
       "      <td>4.0</td>\n",
       "      <td>4</td>\n",
       "      <td>2336.0</td>\n",
       "      <td>2006.0</td>\n",
       "      <td>1.116810</td>\n",
       "    </tr>\n",
       "  </tbody>\n",
       "</table>\n",
       "</div>"
      ],
      "text/plain": [
       "                   Home Type    Zip  Listing Price  Baths  Beds    SQFT  \\\n",
       "0  Single Family Residential  61822         685000    5.0     3  2840.0   \n",
       "1  Single Family Residential  61822         349900    3.0     4  1926.0   \n",
       "2                  Townhouse  61822         194900    3.0     3  1600.0   \n",
       "3  Single Family Residential  61820         126900    2.0     3  1330.0   \n",
       "4  Single Family Residential  61822         369900    4.0     4  2336.0   \n",
       "\n",
       "   Year Built  Airbnb Cash on Cash  \n",
       "0      2010.0             0.834059  \n",
       "1      2016.0             1.349840  \n",
       "2      2017.0             8.629820  \n",
       "3      1959.0            14.517200  \n",
       "4      2006.0             1.116810  "
      ]
     },
     "execution_count": 14,
     "metadata": {},
     "output_type": "execute_result"
    }
   ],
   "source": [
    "df= pd.read_csv(\"5_realtor_data.csv\") \n",
    "df.head()"
   ]
  },
  {
   "cell_type": "code",
   "execution_count": 6,
   "metadata": {},
   "outputs": [
    {
     "name": "stdout",
     "output_type": "stream",
     "text": [
      "<class 'pandas.core.frame.DataFrame'>\n",
      "RangeIndex: 296 entries, 0 to 295\n",
      "Data columns (total 8 columns):\n",
      " #   Column               Non-Null Count  Dtype  \n",
      "---  ------               --------------  -----  \n",
      " 0   Home Type            296 non-null    object \n",
      " 1   Zip                  296 non-null    int64  \n",
      " 2   Listing Price        296 non-null    int64  \n",
      " 3   Baths                294 non-null    float64\n",
      " 4   Beds                 296 non-null    int64  \n",
      " 5   SQFT                 294 non-null    float64\n",
      " 6   Year Built           273 non-null    float64\n",
      " 7   Airbnb Cash on Cash  296 non-null    float64\n",
      "dtypes: float64(4), int64(3), object(1)\n",
      "memory usage: 18.6+ KB\n"
     ]
    }
   ],
   "source": [
    "df.info()"
   ]
  },
  {
   "cell_type": "code",
   "execution_count": null,
   "metadata": {},
   "outputs": [],
   "source": [
    "# Convert Zip to categorical\n",
    "df['Zip'] = df['Zip'].astype('category')\n",
    "\n",
    "# Convert Baths to categorical\n",
    "# First convert to string to preserve decimal values like 1.5 baths\n",
    "df['Baths'] = df['Baths'].astype(str).astype('category')\n",
    "\n",
    "# Convert Beds to categorical\n",
    "df['Beds'] = df['Beds'].astype('category')"
   ]
  },
  {
   "cell_type": "code",
   "execution_count": null,
   "metadata": {},
   "outputs": [],
   "source": [
    "df.info()"
   ]
  },
  {
   "cell_type": "markdown",
   "metadata": {},
   "source": [
    "1.\tPresent summary statistics for all the numeric variables (min, max, mean, standard deviation)."
   ]
  },
  {
   "cell_type": "code",
   "execution_count": null,
   "metadata": {},
   "outputs": [],
   "source": []
  },
  {
   "cell_type": "markdown",
   "metadata": {},
   "source": [
    "2.\tHow many listings are there for each \"Home Type\"?"
   ]
  },
  {
   "cell_type": "code",
   "execution_count": null,
   "metadata": {},
   "outputs": [],
   "source": []
  },
  {
   "cell_type": "markdown",
   "metadata": {},
   "source": [
    "3.\tWhat are the  average and standard deviation of listing prices by zipcode? (use groupby method)"
   ]
  },
  {
   "cell_type": "code",
   "execution_count": null,
   "metadata": {},
   "outputs": [],
   "source": []
  },
  {
   "cell_type": "markdown",
   "metadata": {},
   "source": [
    "4. Present histograms of listing price"
   ]
  },
  {
   "cell_type": "code",
   "execution_count": null,
   "metadata": {},
   "outputs": [],
   "source": []
  },
  {
   "cell_type": "markdown",
   "metadata": {},
   "source": [
    "5. How many 1,2,3,and 4 bedroom houses are listed in each Zip? (Crosstab)"
   ]
  },
  {
   "cell_type": "code",
   "execution_count": null,
   "metadata": {},
   "outputs": [],
   "source": []
  },
  {
   "cell_type": "markdown",
   "metadata": {},
   "source": [
    "6. Present scatter plot for two variables, and briefly summarize what information you can learn from the plot \n"
   ]
  },
  {
   "cell_type": "code",
   "execution_count": null,
   "metadata": {},
   "outputs": [],
   "source": []
  },
  {
   "cell_type": "markdown",
   "metadata": {},
   "source": [
    "7. (Open-Ended Analysis) As a data analyst helping a client select a property for Airbnb investment,   \n",
    "develop a data-driven search strategy. Use the available dataset to:  \n",
    "\n",
    "    Analyze relationships between property characteristics and potential returns  \n",
    "    Provide recommendations backed by statistical analysis  \n",
    "    Include visualizations and statistical evidence to support your recommendations.  "
   ]
  }
 ],
 "metadata": {
  "kernelspec": {
   "display_name": "datamining",
   "language": "python",
   "name": "python3"
  },
  "language_info": {
   "codemirror_mode": {
    "name": "ipython",
    "version": 3
   },
   "file_extension": ".py",
   "mimetype": "text/x-python",
   "name": "python",
   "nbconvert_exporter": "python",
   "pygments_lexer": "ipython3",
   "version": "3.9.7"
  }
 },
 "nbformat": 4,
 "nbformat_minor": 2
}
