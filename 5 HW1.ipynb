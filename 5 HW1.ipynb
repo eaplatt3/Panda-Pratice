{
 "cells": [
  {
   "cell_type": "markdown",
   "metadata": {},
   "source": [
    "Use \"5_realtor_data.csv\" to answer the following questions  \n",
    "The data file should be saved in the project folder  \n",
    "Review the code we have learned in class when completing these questions"
   ]
  },
  {
   "cell_type": "code",
   "execution_count": 1,
   "metadata": {},
   "outputs": [],
   "source": [
    "import numpy as np\n",
    "import pandas as pd\n",
    "import matplotlib.pyplot as plt"
   ]
  },
  {
   "cell_type": "code",
   "execution_count": 2,
   "metadata": {},
   "outputs": [
    {
     "data": {
      "text/html": [
       "<div>\n",
       "<style scoped>\n",
       "    .dataframe tbody tr th:only-of-type {\n",
       "        vertical-align: middle;\n",
       "    }\n",
       "\n",
       "    .dataframe tbody tr th {\n",
       "        vertical-align: top;\n",
       "    }\n",
       "\n",
       "    .dataframe thead th {\n",
       "        text-align: right;\n",
       "    }\n",
       "</style>\n",
       "<table border=\"1\" class=\"dataframe\">\n",
       "  <thead>\n",
       "    <tr style=\"text-align: right;\">\n",
       "      <th></th>\n",
       "      <th>Home Type</th>\n",
       "      <th>Zip</th>\n",
       "      <th>Listing Price</th>\n",
       "      <th>Baths</th>\n",
       "      <th>Beds</th>\n",
       "      <th>SQFT</th>\n",
       "      <th>Year Built</th>\n",
       "      <th>Airbnb Cash on Cash</th>\n",
       "    </tr>\n",
       "  </thead>\n",
       "  <tbody>\n",
       "    <tr>\n",
       "      <th>0</th>\n",
       "      <td>Single Family Residential</td>\n",
       "      <td>61822</td>\n",
       "      <td>685000</td>\n",
       "      <td>5.0</td>\n",
       "      <td>3</td>\n",
       "      <td>2840.0</td>\n",
       "      <td>2010.0</td>\n",
       "      <td>0.834059</td>\n",
       "    </tr>\n",
       "    <tr>\n",
       "      <th>1</th>\n",
       "      <td>Single Family Residential</td>\n",
       "      <td>61822</td>\n",
       "      <td>349900</td>\n",
       "      <td>3.0</td>\n",
       "      <td>4</td>\n",
       "      <td>1926.0</td>\n",
       "      <td>2016.0</td>\n",
       "      <td>1.349840</td>\n",
       "    </tr>\n",
       "    <tr>\n",
       "      <th>2</th>\n",
       "      <td>Townhouse</td>\n",
       "      <td>61822</td>\n",
       "      <td>194900</td>\n",
       "      <td>3.0</td>\n",
       "      <td>3</td>\n",
       "      <td>1600.0</td>\n",
       "      <td>2017.0</td>\n",
       "      <td>8.629820</td>\n",
       "    </tr>\n",
       "    <tr>\n",
       "      <th>3</th>\n",
       "      <td>Single Family Residential</td>\n",
       "      <td>61820</td>\n",
       "      <td>126900</td>\n",
       "      <td>2.0</td>\n",
       "      <td>3</td>\n",
       "      <td>1330.0</td>\n",
       "      <td>1959.0</td>\n",
       "      <td>14.517200</td>\n",
       "    </tr>\n",
       "    <tr>\n",
       "      <th>4</th>\n",
       "      <td>Single Family Residential</td>\n",
       "      <td>61822</td>\n",
       "      <td>369900</td>\n",
       "      <td>4.0</td>\n",
       "      <td>4</td>\n",
       "      <td>2336.0</td>\n",
       "      <td>2006.0</td>\n",
       "      <td>1.116810</td>\n",
       "    </tr>\n",
       "  </tbody>\n",
       "</table>\n",
       "</div>"
      ],
      "text/plain": [
       "                   Home Type    Zip  Listing Price  Baths  Beds    SQFT  \\\n",
       "0  Single Family Residential  61822         685000    5.0     3  2840.0   \n",
       "1  Single Family Residential  61822         349900    3.0     4  1926.0   \n",
       "2                  Townhouse  61822         194900    3.0     3  1600.0   \n",
       "3  Single Family Residential  61820         126900    2.0     3  1330.0   \n",
       "4  Single Family Residential  61822         369900    4.0     4  2336.0   \n",
       "\n",
       "   Year Built  Airbnb Cash on Cash  \n",
       "0      2010.0             0.834059  \n",
       "1      2016.0             1.349840  \n",
       "2      2017.0             8.629820  \n",
       "3      1959.0            14.517200  \n",
       "4      2006.0             1.116810  "
      ]
     },
     "execution_count": 2,
     "metadata": {},
     "output_type": "execute_result"
    }
   ],
   "source": [
    "df= pd.read_csv(\"5_realtor_data.csv\") \n",
    "df.head()"
   ]
  },
  {
   "cell_type": "code",
   "execution_count": 3,
   "metadata": {},
   "outputs": [
    {
     "name": "stdout",
     "output_type": "stream",
     "text": [
      "<class 'pandas.core.frame.DataFrame'>\n",
      "RangeIndex: 296 entries, 0 to 295\n",
      "Data columns (total 8 columns):\n",
      " #   Column               Non-Null Count  Dtype  \n",
      "---  ------               --------------  -----  \n",
      " 0   Home Type            296 non-null    object \n",
      " 1   Zip                  296 non-null    int64  \n",
      " 2   Listing Price        296 non-null    int64  \n",
      " 3   Baths                294 non-null    float64\n",
      " 4   Beds                 296 non-null    int64  \n",
      " 5   SQFT                 294 non-null    float64\n",
      " 6   Year Built           273 non-null    float64\n",
      " 7   Airbnb Cash on Cash  296 non-null    float64\n",
      "dtypes: float64(4), int64(3), object(1)\n",
      "memory usage: 18.6+ KB\n"
     ]
    }
   ],
   "source": [
    "df.info()"
   ]
  },
  {
   "cell_type": "code",
   "execution_count": 4,
   "metadata": {},
   "outputs": [],
   "source": [
    "# Convert Zip to categorical\n",
    "df['Zip'] = df['Zip'].astype('category')\n",
    "\n",
    "# Convert Baths to categorical\n",
    "# First convert to string to preserve decimal values like 1.5 baths\n",
    "df['Baths'] = df['Baths'].astype(str).astype('category')\n",
    "\n",
    "# Convert Beds to categorical\n",
    "df['Beds'] = df['Beds'].astype('category')"
   ]
  },
  {
   "cell_type": "code",
   "execution_count": 5,
   "metadata": {},
   "outputs": [
    {
     "name": "stdout",
     "output_type": "stream",
     "text": [
      "<class 'pandas.core.frame.DataFrame'>\n",
      "RangeIndex: 296 entries, 0 to 295\n",
      "Data columns (total 8 columns):\n",
      " #   Column               Non-Null Count  Dtype   \n",
      "---  ------               --------------  -----   \n",
      " 0   Home Type            296 non-null    object  \n",
      " 1   Zip                  296 non-null    category\n",
      " 2   Listing Price        296 non-null    int64   \n",
      " 3   Baths                296 non-null    category\n",
      " 4   Beds                 296 non-null    category\n",
      " 5   SQFT                 294 non-null    float64 \n",
      " 6   Year Built           273 non-null    float64 \n",
      " 7   Airbnb Cash on Cash  296 non-null    float64 \n",
      "dtypes: category(3), float64(3), int64(1), object(1)\n",
      "memory usage: 13.2+ KB\n"
     ]
    }
   ],
   "source": [
    "df.info()"
   ]
  },
  {
   "cell_type": "markdown",
   "metadata": {},
   "source": [
    "1.\tPresent summary statistics for all the numeric variables (min, max, mean, standard deviation)."
   ]
  },
  {
   "cell_type": "code",
   "execution_count": 6,
   "metadata": {},
   "outputs": [
    {
     "data": {
      "text/html": [
       "<div>\n",
       "<style scoped>\n",
       "    .dataframe tbody tr th:only-of-type {\n",
       "        vertical-align: middle;\n",
       "    }\n",
       "\n",
       "    .dataframe tbody tr th {\n",
       "        vertical-align: top;\n",
       "    }\n",
       "\n",
       "    .dataframe thead th {\n",
       "        text-align: right;\n",
       "    }\n",
       "</style>\n",
       "<table border=\"1\" class=\"dataframe\">\n",
       "  <thead>\n",
       "    <tr style=\"text-align: right;\">\n",
       "      <th></th>\n",
       "      <th>Listing Price</th>\n",
       "      <th>SQFT</th>\n",
       "      <th>Year Built</th>\n",
       "      <th>Airbnb Cash on Cash</th>\n",
       "    </tr>\n",
       "  </thead>\n",
       "  <tbody>\n",
       "    <tr>\n",
       "      <th>count</th>\n",
       "      <td>296.000000</td>\n",
       "      <td>294.000000</td>\n",
       "      <td>273.000000</td>\n",
       "      <td>296.000000</td>\n",
       "    </tr>\n",
       "    <tr>\n",
       "      <th>mean</th>\n",
       "      <td>225782.037162</td>\n",
       "      <td>2002.656463</td>\n",
       "      <td>1979.472527</td>\n",
       "      <td>7.371624</td>\n",
       "    </tr>\n",
       "    <tr>\n",
       "      <th>std</th>\n",
       "      <td>147640.909051</td>\n",
       "      <td>994.326109</td>\n",
       "      <td>30.089697</td>\n",
       "      <td>6.247464</td>\n",
       "    </tr>\n",
       "    <tr>\n",
       "      <th>min</th>\n",
       "      <td>77100.000000</td>\n",
       "      <td>704.000000</td>\n",
       "      <td>1855.000000</td>\n",
       "      <td>-1.125820</td>\n",
       "    </tr>\n",
       "    <tr>\n",
       "      <th>25%</th>\n",
       "      <td>119999.750000</td>\n",
       "      <td>1322.500000</td>\n",
       "      <td>1960.000000</td>\n",
       "      <td>2.284272</td>\n",
       "    </tr>\n",
       "    <tr>\n",
       "      <th>50%</th>\n",
       "      <td>172350.000000</td>\n",
       "      <td>1704.000000</td>\n",
       "      <td>1985.000000</td>\n",
       "      <td>5.056220</td>\n",
       "    </tr>\n",
       "    <tr>\n",
       "      <th>75%</th>\n",
       "      <td>285675.000000</td>\n",
       "      <td>2396.000000</td>\n",
       "      <td>2004.000000</td>\n",
       "      <td>12.357400</td>\n",
       "    </tr>\n",
       "    <tr>\n",
       "      <th>max</th>\n",
       "      <td>989000.000000</td>\n",
       "      <td>7040.000000</td>\n",
       "      <td>2017.000000</td>\n",
       "      <td>25.179400</td>\n",
       "    </tr>\n",
       "  </tbody>\n",
       "</table>\n",
       "</div>"
      ],
      "text/plain": [
       "       Listing Price         SQFT   Year Built  Airbnb Cash on Cash\n",
       "count     296.000000   294.000000   273.000000           296.000000\n",
       "mean   225782.037162  2002.656463  1979.472527             7.371624\n",
       "std    147640.909051   994.326109    30.089697             6.247464\n",
       "min     77100.000000   704.000000  1855.000000            -1.125820\n",
       "25%    119999.750000  1322.500000  1960.000000             2.284272\n",
       "50%    172350.000000  1704.000000  1985.000000             5.056220\n",
       "75%    285675.000000  2396.000000  2004.000000            12.357400\n",
       "max    989000.000000  7040.000000  2017.000000            25.179400"
      ]
     },
     "execution_count": 6,
     "metadata": {},
     "output_type": "execute_result"
    }
   ],
   "source": [
    "df.describe()"
   ]
  },
  {
   "cell_type": "markdown",
   "metadata": {},
   "source": [
    "2.\tHow many listings are there for each \"Home Type\"?"
   ]
  },
  {
   "cell_type": "code",
   "execution_count": 9,
   "metadata": {},
   "outputs": [
    {
     "data": {
      "text/plain": [
       "Single Family Residential    246\n",
       "Condo/Coop                    39\n",
       "Townhouse                     11\n",
       "Name: Home Type, dtype: int64"
      ]
     },
     "execution_count": 9,
     "metadata": {},
     "output_type": "execute_result"
    }
   ],
   "source": [
    "df['Home Type'].value_counts()"
   ]
  },
  {
   "cell_type": "markdown",
   "metadata": {},
   "source": [
    "3.\tWhat are the  average and standard deviation of listing prices by zipcode? (use groupby method)"
   ]
  },
  {
   "cell_type": "code",
   "execution_count": 29,
   "metadata": {},
   "outputs": [
    {
     "name": "stdout",
     "output_type": "stream",
     "text": [
      "Average\n"
     ]
    },
    {
     "data": {
      "text/plain": [
       "Zip\n",
       "61820    193976.000000\n",
       "61821    148634.424528\n",
       "61822    295553.100000\n",
       "Name: Listing Price, dtype: float64"
      ]
     },
     "execution_count": 29,
     "metadata": {},
     "output_type": "execute_result"
    }
   ],
   "source": [
    "print(\"Average\")\n",
    "df.groupby('Zip')['Listing Price'].mean()"
   ]
  },
  {
   "cell_type": "code",
   "execution_count": 30,
   "metadata": {},
   "outputs": [
    {
     "name": "stdout",
     "output_type": "stream",
     "text": [
      "Standard Deviation\n"
     ]
    },
    {
     "data": {
      "text/plain": [
       "Zip\n",
       "61820    147340.310735\n",
       "61821     74111.616215\n",
       "61822    157016.011981\n",
       "Name: Listing Price, dtype: float64"
      ]
     },
     "execution_count": 30,
     "metadata": {},
     "output_type": "execute_result"
    }
   ],
   "source": [
    "print(\"Standard Deviation\")\n",
    "df.groupby('Zip')['Listing Price'].std()"
   ]
  },
  {
   "cell_type": "markdown",
   "metadata": {},
   "source": [
    "4. Present histograms of listing price"
   ]
  },
  {
   "cell_type": "code",
   "execution_count": 16,
   "metadata": {},
   "outputs": [
    {
     "data": {
      "text/plain": [
       "array([[<AxesSubplot:title={'center':'Listing Price'}>]], dtype=object)"
      ]
     },
     "execution_count": 16,
     "metadata": {},
     "output_type": "execute_result"
    },
    {
     "data": {
      "image/png": "[encoded data removed]",
      "text/plain": [
       "<Figure size 640x480 with 1 Axes>"
      ]
     },
     "metadata": {},
     "output_type": "display_data"
    }
   ],
   "source": [
    "df[['Listing Price']].hist()"
   ]
  },
  {
   "cell_type": "markdown",
   "metadata": {},
   "source": [
    "5. How many 1,2,3,and 4 bedroom houses are listed in each Zip? (Crosstab)"
   ]
  },
  {
   "cell_type": "code",
   "execution_count": 17,
   "metadata": {},
   "outputs": [
    {
     "data": {
      "text/html": [
       "<div>\n",
       "<style scoped>\n",
       "    .dataframe tbody tr th:only-of-type {\n",
       "        vertical-align: middle;\n",
       "    }\n",
       "\n",
       "    .dataframe tbody tr th {\n",
       "        vertical-align: top;\n",
       "    }\n",
       "\n",
       "    .dataframe thead th {\n",
       "        text-align: right;\n",
       "    }\n",
       "</style>\n",
       "<table border=\"1\" class=\"dataframe\">\n",
       "  <thead>\n",
       "    <tr style=\"text-align: right;\">\n",
       "      <th>Zip</th>\n",
       "      <th>61820</th>\n",
       "      <th>61821</th>\n",
       "      <th>61822</th>\n",
       "    </tr>\n",
       "    <tr>\n",
       "      <th>Beds</th>\n",
       "      <th></th>\n",
       "      <th></th>\n",
       "      <th></th>\n",
       "    </tr>\n",
       "  </thead>\n",
       "  <tbody>\n",
       "    <tr>\n",
       "      <th>1</th>\n",
       "      <td>1</td>\n",
       "      <td>0</td>\n",
       "      <td>0</td>\n",
       "    </tr>\n",
       "    <tr>\n",
       "      <th>2</th>\n",
       "      <td>17</td>\n",
       "      <td>16</td>\n",
       "      <td>16</td>\n",
       "    </tr>\n",
       "    <tr>\n",
       "      <th>3</th>\n",
       "      <td>24</td>\n",
       "      <td>66</td>\n",
       "      <td>53</td>\n",
       "    </tr>\n",
       "    <tr>\n",
       "      <th>4</th>\n",
       "      <td>8</td>\n",
       "      <td>24</td>\n",
       "      <td>71</td>\n",
       "    </tr>\n",
       "  </tbody>\n",
       "</table>\n",
       "</div>"
      ],
      "text/plain": [
       "Zip   61820  61821  61822\n",
       "Beds                     \n",
       "1         1      0      0\n",
       "2        17     16     16\n",
       "3        24     66     53\n",
       "4         8     24     71"
      ]
     },
     "execution_count": 17,
     "metadata": {},
     "output_type": "execute_result"
    }
   ],
   "source": [
    "pd.crosstab(df['Beds'], df['Zip'])"
   ]
  },
  {
   "cell_type": "markdown",
   "metadata": {},
   "source": [
    "6. Present scatter plot for two variables, and briefly summarize what information you can learn from the plot \n"
   ]
  },
  {
   "cell_type": "code",
   "execution_count": null,
   "metadata": {},
   "outputs": [
    {
     "data": {
      "text/plain": [
       "<AxesSubplot:xlabel='Year Built', ylabel='Listing Price'>"
      ]
     },
     "execution_count": 25,
     "metadata": {},
     "output_type": "execute_result"
    },
    {
     "data": {
      "image/png": "[encoded data removed]",
      "text/plain": [
       "<Figure size 640x480 with 1 Axes>"
      ]
     },
     "metadata": {},
     "output_type": "display_data"
    }
   ],
   "source": [
    "df.plot(kind='scatter', x='Year Built', y='Listing Price')\n",
    "\n",
    "# The scatter plot shows that houses built within the same years are more likely to have similar prices."
   ]
  },
  {
   "cell_type": "markdown",
   "metadata": {},
   "source": [
    "7. (Open-Ended Analysis) As a data analyst helping a client select a property for Airbnb investment,   \n",
    "develop a data-driven search strategy. Use the available dataset to:  \n",
    "\n",
    "    Analyze relationships between property characteristics and potential returns  \n",
    "    Provide recommendations backed by statistical analysis  \n",
    "    Include visualizations and statistical evidence to support your recommendations.  "
   ]
  },
  {
   "cell_type": "code",
   "execution_count": null,
   "metadata": {},
   "outputs": [
    {
     "data": {
      "text/plain": [
       "<AxesSubplot:xlabel='Year Built', ylabel='Listing Price'>"
      ]
     },
     "execution_count": 27,
     "metadata": {},
     "output_type": "execute_result"
    },
    {
     "data": {
      "image/png": "[encoded data removed]",
      "text/plain": [
       "<Figure size 640x480 with 1 Axes>"
      ]
     },
     "metadata": {},
     "output_type": "display_data"
    },
    {
     "data": {
      "image/png": "[encoded data removed]",
      "text/plain": [
       "<Figure size 640x480 with 1 Axes>"
      ]
     },
     "metadata": {},
     "output_type": "display_data"
    }
   ],
   "source": [
    "df.plot(kind='scatter', x='Year Built', y='Airbnb Cash on Cash')\n",
    "df.plot(kind='scatter', x='Year Built', y='Listing Price')\n",
    "\n",
    "# Based on the scatter plots your best return on investment would be to look for house built between 1950 and 1990\n",
    "# The reason this is the bet ROI is because the house built during this time period have cheaper list prices but higher cash on cash returns."
   ]
  }
 ],
 "metadata": {
  "kernelspec": {
   "display_name": "Python 3",
   "language": "python",
   "name": "python3"
  },
  "language_info": {
   "codemirror_mode": {
    "name": "ipython",
    "version": 3
   },
   "file_extension": ".py",
   "mimetype": "text/x-python",
   "name": "python",
   "nbconvert_exporter": "python",
   "pygments_lexer": "ipython3",
   "version": "3.7.8"
  }
 },
 "nbformat": 4,
 "nbformat_minor": 2
}
